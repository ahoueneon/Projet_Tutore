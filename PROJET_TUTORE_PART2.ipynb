{
 "cells": [
  {
   "cell_type": "code",
   "execution_count": 23,
   "id": "9f280490",
   "metadata": {},
   "outputs": [],
   "source": [
    "import pandas as pd\n",
    "import numpy as np\n",
    "import matplotlib.pyplot as plt \n",
    "from sklearn.impute import SimpleImputer\n",
    "from sklearn.cluster import KMeans\n",
    "from sklearn.decomposition import PCA\n",
    "from sklearn.preprocessing import scale\n",
    "import seaborn\n",
    "seaborn.set_style(\"white\")\n",
    "%matplotlib inline"
   ]
  },
  {
   "cell_type": "code",
   "execution_count": 3,
   "id": "4f2928b7",
   "metadata": {},
   "outputs": [],
   "source": [
    "DR41 = pd.read_csv('D:/BUREAU/infos/PROJET_TUTORE_SEMESTRE_2/DR41_DIFF_DATE.txt',low_memory=False)"
   ]
  },
  {
   "cell_type": "code",
   "execution_count": 4,
   "id": "2c85d5be",
   "metadata": {},
   "outputs": [],
   "source": [
    "pd.set_option(\"display.max_columns\",35)"
   ]
  },
  {
   "cell_type": "code",
   "execution_count": 5,
   "id": "ec9b109c",
   "metadata": {},
   "outputs": [],
   "source": [
    "d2 = DR41.copy()"
   ]
  },
  {
   "cell_type": "code",
   "execution_count": 21,
   "id": "d36518f5",
   "metadata": {},
   "outputs": [
    {
     "data": {
      "text/plain": [
       "Index(['DATE.REGLT', 'DATE.FACT', 'MONT.FDE', 'DIFF_DATE', 'NOUVEAU',\n",
       "       'CUBCONS'],\n",
       "      dtype='object')"
      ]
     },
     "execution_count": 21,
     "metadata": {},
     "output_type": "execute_result"
    }
   ],
   "source": [
    "d2.columns"
   ]
  },
  {
   "cell_type": "code",
   "execution_count": 6,
   "id": "eeeeb840",
   "metadata": {},
   "outputs": [],
   "source": [
    "d2 = d2[['DIFF_DATE','NOUVEAU','CUBCONS']]"
   ]
  },
  {
   "cell_type": "code",
   "execution_count": 7,
   "id": "62e9d8fd",
   "metadata": {},
   "outputs": [],
   "source": [
    "d2.dropna(inplace=True)"
   ]
  },
  {
   "cell_type": "code",
   "execution_count": 25,
   "id": "7ad3cf77",
   "metadata": {},
   "outputs": [
    {
     "data": {
      "text/plain": [
       "DIFF_DATE    0\n",
       "NOUVEAU      0\n",
       "CUBCONS      0\n",
       "dtype: int64"
      ]
     },
     "execution_count": 25,
     "metadata": {},
     "output_type": "execute_result"
    }
   ],
   "source": [
    "d2.isna().sum()"
   ]
  },
  {
   "cell_type": "code",
   "execution_count": 8,
   "id": "45de869a",
   "metadata": {},
   "outputs": [
    {
     "name": "stderr",
     "output_type": "stream",
     "text": [
      "C:\\Users\\hp\\AppData\\Local\\Packages\\PythonSoftwareFoundation.Python.3.10_qbz5n2kfra8p0\\LocalCache\\local-packages\\Python310\\site-packages\\sklearn\\cluster\\_kmeans.py:870: FutureWarning: The default value of `n_init` will change from 10 to 'auto' in 1.4. Set the value of `n_init` explicitly to suppress the warning\n",
      "  warnings.warn(\n"
     ]
    }
   ],
   "source": [
    "# Création de l'objet KMeans avec 2 clusters\n",
    "kmeans = KMeans(n_clusters=4)\n",
    "\n",
    "# Entraînement du modèle sur les données\n",
    "kmeans.fit(d2)\n",
    "\n",
    "# Obtention des centres des clusters\n",
    "centroids = kmeans.cluster_centers_\n",
    "\n",
    "# Obtention des étiquettes des clusters pour chaque point de données\n",
    "labels = kmeans.labels_"
   ]
  },
  {
   "cell_type": "code",
   "execution_count": 32,
   "id": "1d893c26",
   "metadata": {},
   "outputs": [
    {
     "name": "stdout",
     "output_type": "stream",
     "text": [
      "Centres des clusters:\n",
      "[[5.77922976e+01 1.50920473e-01 3.55069141e+01]\n",
      " [3.87415842e+02 1.98019802e-02 4.14964059e+04]\n",
      " [3.49306136e+02 9.61617758e-02 4.58718301e+01]\n",
      " [2.84498956e+02 6.05427975e-02 4.79589353e+03]]\n"
     ]
    }
   ],
   "source": [
    "print(\"Centres des clusters:\")\n",
    "print(centroids)"
   ]
  },
  {
   "cell_type": "code",
   "execution_count": 37,
   "id": "4da12ca6",
   "metadata": {},
   "outputs": [
    {
     "name": "stdout",
     "output_type": "stream",
     "text": [
      "(array([0, 1, 2, 3]), array([3325103,     101,  174810,     479], dtype=int64))\n"
     ]
    }
   ],
   "source": [
    "print(np.unique(labels,return_counts=True))"
   ]
  },
  {
   "cell_type": "code",
   "execution_count": 9,
   "id": "774a5d57",
   "metadata": {},
   "outputs": [],
   "source": [
    "#association de chaque individu à son groupe\n",
    "\n",
    "d_clusters = d2.copy()\n",
    "\n",
    "# Ajouter une nouvelle colonne 'Cluster' au DataFrame\n",
    "d_clusters['Cluster'] = kmeans.labels_"
   ]
  },
  {
   "cell_type": "code",
   "execution_count": 10,
   "id": "1e19fec9",
   "metadata": {},
   "outputs": [
    {
     "data": {
      "text/html": [
       "<div>\n",
       "<style scoped>\n",
       "    .dataframe tbody tr th:only-of-type {\n",
       "        vertical-align: middle;\n",
       "    }\n",
       "\n",
       "    .dataframe tbody tr th {\n",
       "        vertical-align: top;\n",
       "    }\n",
       "\n",
       "    .dataframe thead th {\n",
       "        text-align: right;\n",
       "    }\n",
       "</style>\n",
       "<table border=\"1\" class=\"dataframe\">\n",
       "  <thead>\n",
       "    <tr style=\"text-align: right;\">\n",
       "      <th></th>\n",
       "      <th>DIFF_DATE</th>\n",
       "      <th>NOUVEAU</th>\n",
       "      <th>CUBCONS</th>\n",
       "      <th>Cluster</th>\n",
       "    </tr>\n",
       "  </thead>\n",
       "  <tbody>\n",
       "    <tr>\n",
       "      <th>0</th>\n",
       "      <td>62.0</td>\n",
       "      <td>0</td>\n",
       "      <td>26</td>\n",
       "      <td>0</td>\n",
       "    </tr>\n",
       "    <tr>\n",
       "      <th>1</th>\n",
       "      <td>102.0</td>\n",
       "      <td>0</td>\n",
       "      <td>7</td>\n",
       "      <td>0</td>\n",
       "    </tr>\n",
       "    <tr>\n",
       "      <th>2</th>\n",
       "      <td>32.0</td>\n",
       "      <td>0</td>\n",
       "      <td>90</td>\n",
       "      <td>0</td>\n",
       "    </tr>\n",
       "    <tr>\n",
       "      <th>3</th>\n",
       "      <td>28.0</td>\n",
       "      <td>0</td>\n",
       "      <td>0</td>\n",
       "      <td>0</td>\n",
       "    </tr>\n",
       "    <tr>\n",
       "      <th>4</th>\n",
       "      <td>32.0</td>\n",
       "      <td>0</td>\n",
       "      <td>18</td>\n",
       "      <td>0</td>\n",
       "    </tr>\n",
       "  </tbody>\n",
       "</table>\n",
       "</div>"
      ],
      "text/plain": [
       "   DIFF_DATE  NOUVEAU  CUBCONS  Cluster\n",
       "0       62.0        0       26        0\n",
       "1      102.0        0        7        0\n",
       "2       32.0        0       90        0\n",
       "3       28.0        0        0        0\n",
       "4       32.0        0       18        0"
      ]
     },
     "execution_count": 10,
     "metadata": {},
     "output_type": "execute_result"
    }
   ],
   "source": [
    "d_clusters.head()"
   ]
  },
  {
   "cell_type": "code",
   "execution_count": 11,
   "id": "0565c42a",
   "metadata": {},
   "outputs": [
    {
     "data": {
      "text/html": [
       "<div>\n",
       "<style scoped>\n",
       "    .dataframe tbody tr th:only-of-type {\n",
       "        vertical-align: middle;\n",
       "    }\n",
       "\n",
       "    .dataframe tbody tr th {\n",
       "        vertical-align: top;\n",
       "    }\n",
       "\n",
       "    .dataframe thead tr th {\n",
       "        text-align: left;\n",
       "    }\n",
       "\n",
       "    .dataframe thead tr:last-of-type th {\n",
       "        text-align: right;\n",
       "    }\n",
       "</style>\n",
       "<table border=\"1\" class=\"dataframe\">\n",
       "  <thead>\n",
       "    <tr>\n",
       "      <th></th>\n",
       "      <th colspan=\"8\" halign=\"left\">DIFF_DATE</th>\n",
       "      <th colspan=\"8\" halign=\"left\">NOUVEAU</th>\n",
       "      <th colspan=\"8\" halign=\"left\">CUBCONS</th>\n",
       "    </tr>\n",
       "    <tr>\n",
       "      <th></th>\n",
       "      <th>count</th>\n",
       "      <th>mean</th>\n",
       "      <th>std</th>\n",
       "      <th>min</th>\n",
       "      <th>25%</th>\n",
       "      <th>50%</th>\n",
       "      <th>75%</th>\n",
       "      <th>max</th>\n",
       "      <th>count</th>\n",
       "      <th>mean</th>\n",
       "      <th>std</th>\n",
       "      <th>min</th>\n",
       "      <th>25%</th>\n",
       "      <th>50%</th>\n",
       "      <th>75%</th>\n",
       "      <th>max</th>\n",
       "      <th>count</th>\n",
       "      <th>mean</th>\n",
       "      <th>std</th>\n",
       "      <th>min</th>\n",
       "      <th>25%</th>\n",
       "      <th>50%</th>\n",
       "      <th>75%</th>\n",
       "      <th>max</th>\n",
       "    </tr>\n",
       "    <tr>\n",
       "      <th>Cluster</th>\n",
       "      <th></th>\n",
       "      <th></th>\n",
       "      <th></th>\n",
       "      <th></th>\n",
       "      <th></th>\n",
       "      <th></th>\n",
       "      <th></th>\n",
       "      <th></th>\n",
       "      <th></th>\n",
       "      <th></th>\n",
       "      <th></th>\n",
       "      <th></th>\n",
       "      <th></th>\n",
       "      <th></th>\n",
       "      <th></th>\n",
       "      <th></th>\n",
       "      <th></th>\n",
       "      <th></th>\n",
       "      <th></th>\n",
       "      <th></th>\n",
       "      <th></th>\n",
       "      <th></th>\n",
       "      <th></th>\n",
       "      <th></th>\n",
       "    </tr>\n",
       "  </thead>\n",
       "  <tbody>\n",
       "    <tr>\n",
       "      <th>0</th>\n",
       "      <td>3325103.0</td>\n",
       "      <td>57.783566</td>\n",
       "      <td>33.627024</td>\n",
       "      <td>-977.0</td>\n",
       "      <td>38.0</td>\n",
       "      <td>53.0</td>\n",
       "      <td>62.0</td>\n",
       "      <td>436.0</td>\n",
       "      <td>3325103.0</td>\n",
       "      <td>0.150920</td>\n",
       "      <td>0.357970</td>\n",
       "      <td>0.0</td>\n",
       "      <td>0.0</td>\n",
       "      <td>0.0</td>\n",
       "      <td>0.0</td>\n",
       "      <td>1.0</td>\n",
       "      <td>3325103.0</td>\n",
       "      <td>35.508101</td>\n",
       "      <td>61.107304</td>\n",
       "      <td>-36807.0</td>\n",
       "      <td>14.0</td>\n",
       "      <td>27.0</td>\n",
       "      <td>46.0</td>\n",
       "      <td>2416.0</td>\n",
       "    </tr>\n",
       "    <tr>\n",
       "      <th>1</th>\n",
       "      <td>101.0</td>\n",
       "      <td>387.415842</td>\n",
       "      <td>69.809636</td>\n",
       "      <td>217.0</td>\n",
       "      <td>344.0</td>\n",
       "      <td>394.0</td>\n",
       "      <td>450.0</td>\n",
       "      <td>537.0</td>\n",
       "      <td>101.0</td>\n",
       "      <td>0.019802</td>\n",
       "      <td>0.140014</td>\n",
       "      <td>0.0</td>\n",
       "      <td>0.0</td>\n",
       "      <td>0.0</td>\n",
       "      <td>0.0</td>\n",
       "      <td>1.0</td>\n",
       "      <td>101.0</td>\n",
       "      <td>41496.405941</td>\n",
       "      <td>5037.834696</td>\n",
       "      <td>32510.0</td>\n",
       "      <td>37481.0</td>\n",
       "      <td>41157.0</td>\n",
       "      <td>45260.0</td>\n",
       "      <td>51980.0</td>\n",
       "    </tr>\n",
       "    <tr>\n",
       "      <th>2</th>\n",
       "      <td>479.0</td>\n",
       "      <td>284.498956</td>\n",
       "      <td>210.249333</td>\n",
       "      <td>21.0</td>\n",
       "      <td>56.0</td>\n",
       "      <td>331.0</td>\n",
       "      <td>424.0</td>\n",
       "      <td>1435.0</td>\n",
       "      <td>479.0</td>\n",
       "      <td>0.060543</td>\n",
       "      <td>0.238739</td>\n",
       "      <td>0.0</td>\n",
       "      <td>0.0</td>\n",
       "      <td>0.0</td>\n",
       "      <td>0.0</td>\n",
       "      <td>1.0</td>\n",
       "      <td>479.0</td>\n",
       "      <td>4795.893528</td>\n",
       "      <td>2390.901391</td>\n",
       "      <td>2430.0</td>\n",
       "      <td>3325.0</td>\n",
       "      <td>4032.0</td>\n",
       "      <td>5343.5</td>\n",
       "      <td>18823.0</td>\n",
       "    </tr>\n",
       "    <tr>\n",
       "      <th>3</th>\n",
       "      <td>174810.0</td>\n",
       "      <td>349.142046</td>\n",
       "      <td>169.512683</td>\n",
       "      <td>158.0</td>\n",
       "      <td>237.0</td>\n",
       "      <td>298.0</td>\n",
       "      <td>411.0</td>\n",
       "      <td>1629.0</td>\n",
       "      <td>174810.0</td>\n",
       "      <td>0.096242</td>\n",
       "      <td>0.294923</td>\n",
       "      <td>0.0</td>\n",
       "      <td>0.0</td>\n",
       "      <td>0.0</td>\n",
       "      <td>0.0</td>\n",
       "      <td>1.0</td>\n",
       "      <td>174810.0</td>\n",
       "      <td>45.837521</td>\n",
       "      <td>103.984624</td>\n",
       "      <td>-2318.0</td>\n",
       "      <td>6.0</td>\n",
       "      <td>22.0</td>\n",
       "      <td>47.0</td>\n",
       "      <td>2393.0</td>\n",
       "    </tr>\n",
       "  </tbody>\n",
       "</table>\n",
       "</div>"
      ],
      "text/plain": [
       "         DIFF_DATE                                                      \\\n",
       "             count        mean         std    min    25%    50%    75%   \n",
       "Cluster                                                                  \n",
       "0        3325103.0   57.783566   33.627024 -977.0   38.0   53.0   62.0   \n",
       "1            101.0  387.415842   69.809636  217.0  344.0  394.0  450.0   \n",
       "2            479.0  284.498956  210.249333   21.0   56.0  331.0  424.0   \n",
       "3         174810.0  349.142046  169.512683  158.0  237.0  298.0  411.0   \n",
       "\n",
       "                   NOUVEAU                                               \\\n",
       "            max      count      mean       std  min  25%  50%  75%  max   \n",
       "Cluster                                                                   \n",
       "0         436.0  3325103.0  0.150920  0.357970  0.0  0.0  0.0  0.0  1.0   \n",
       "1         537.0      101.0  0.019802  0.140014  0.0  0.0  0.0  0.0  1.0   \n",
       "2        1435.0      479.0  0.060543  0.238739  0.0  0.0  0.0  0.0  1.0   \n",
       "3        1629.0   174810.0  0.096242  0.294923  0.0  0.0  0.0  0.0  1.0   \n",
       "\n",
       "           CUBCONS                                                        \\\n",
       "             count          mean          std      min      25%      50%   \n",
       "Cluster                                                                    \n",
       "0        3325103.0     35.508101    61.107304 -36807.0     14.0     27.0   \n",
       "1            101.0  41496.405941  5037.834696  32510.0  37481.0  41157.0   \n",
       "2            479.0   4795.893528  2390.901391   2430.0   3325.0   4032.0   \n",
       "3         174810.0     45.837521   103.984624  -2318.0      6.0     22.0   \n",
       "\n",
       "                           \n",
       "             75%      max  \n",
       "Cluster                    \n",
       "0           46.0   2416.0  \n",
       "1        45260.0  51980.0  \n",
       "2         5343.5  18823.0  \n",
       "3           47.0   2393.0  "
      ]
     },
     "execution_count": 11,
     "metadata": {},
     "output_type": "execute_result"
    }
   ],
   "source": [
    "d_clusters.groupby('Cluster').describe()"
   ]
  },
  {
   "cell_type": "markdown",
   "id": "790ce4b4",
   "metadata": {},
   "source": [
    "### INTERPRETATION DE LA CLASSIFICATION "
   ]
  },
  {
   "cell_type": "markdown",
   "id": "b32a383e",
   "metadata": {},
   "source": [
    "D abord le choix de faire un k-means est motivé par d abord nos ressources(machines). Ensuite, du fait de la repartition\n",
    "des clusters apres plusieurs tentatives. Il a été preferable pour de nous restreindre à 4 groupes. \n",
    "\n",
    "On obtient dans le tableau ci-dessus le resumé des variables DIFF-DATE(le nombre de jour qu'à mis l'abonné avant de soldersa facture).\n",
    "Et les variables NOUVEAU(pour l'anciennete de l'abonne) et CUBCONS(pour quantifier la consommation en m3 d'eau par l'abonné).\n",
    "\n",
    "Dans le groupe0:\n",
    " -C est le groupe le plus representatif. Il contient 3325103 individus soit plus de 95% des observations. En moyenne \n",
    ",ils s aquittent de leur facture environ 58 jours apres emission avec un ecart-type de 34jours. 25% paient leur facture dans \n",
    "un delai de 38 jours et 75% dans un delai de 62 jours. \n",
    " -Quand à la variable NOUVEAU, il y a 0 les pour abonnés dont l abonnement date de moins de 5ans moins et 1 pour plus.\n",
    "laplupart des abonnés ont un abonement de moins de 5ans.\n",
    " -Pour la variable CUBCONS, la consommation moyenne est de 36m3 avec un ecart type de de 62. et seulement 75% ont une\n",
    "une consommation de moins de 46.\n",
    " -EN RESUME, les individus du groupe0 sont des abonnes de moins de 5ans d'abonnement, avec une consommation qui est en\n",
    "moyenne 36m3 d'eau et dont la facture est en generale soldée 58 jours apres emission.\n",
    "\n",
    "\n",
    "Dans les groupe1 et 2:\n",
    "C est le deuxieme groupe le plus representatif. Il contient  environ 580 individus soit moins de 1% des observations. En moyenne ,ils s aquittent de leur facture plus de 280 jours apres émission. \n",
    " -Pour la variable CUBCONS, la consommation moyenne est assez forte, plus de 4700m3 pour le groupe2 et 41500m3 pour le\n",
    "groupe1.\n",
    " -EN RESUME, les individus des groupe1 et 3 ont les memes caractéristiques. juste que ceux du groupe2 ont une consommation \n",
    "plus forte que ceux du groupe2 et Ceux du goupe 1 ont un delai plus long(350) \n",
    "\n",
    "\n",
    "Dans le groupe3:\n",
    " -C est le second groupe le mieux represente. Il contient 174810 individus soit moins de 5% des observations. En moyenne \n",
    ",ils s aquittent de leur facture environ 350 jours apres emission avec un ecart-type de 170jours. 25% paient leur facture dans un delai de 237 jours et 75% dans un delai de 411 jours. \n",
    " -Quand à la variable NOUVEAU, il y a 0 les pour abonnés dont l abonnement date de moins de 5ans moins et 1 pour plus.\n",
    "laplupart des abonnés ont un abonement de moins de 5ans.\n",
    " -Pour la variable CUBCONS, la consommation moyenne est de 46m3 avec un ecart type de de 104. et seulement 75% ont une\n",
    "une consommation de moins de 47.\n",
    " -EN RESUME, les individus du groupe3 ont un comportement similaire à ceux du groupe0 juste qu ils different au niveau du\n",
    "du delai paiement avec(350 jours)\n",
    "\n",
    "\n",
    "RESUME-GENERALE:\n",
    "    les groupes 0 et 3 representent les clients de type PRIVE avec un groupe qui paie ses factures dans un bon delai\n",
    "    et un autre dans un delai moins bon. Les deux ont des consommations relativement faibles.\n",
    "    les groupes 1 et 2 representent les clients de type ADMIN. ils ont tous des delais de paiement assez long et de forte\n",
    "    consommation par rapport aux deux premiers groupes. Mais l un des deux à une consommation beaucoup plus forte que l autre."
   ]
  },
  {
   "cell_type": "markdown",
   "id": "4c43bc54",
   "metadata": {},
   "source": [
    "### ANALYSE EN COMPOSANTE PRINCIPALE"
   ]
  },
  {
   "cell_type": "markdown",
   "id": "f5cd280c",
   "metadata": {},
   "source": [
    "L Analyse en Composantes Principales (ACP) offre plusieurs avantages, même si vous avez déjà réalisé une matrice\n",
    "de corrélation pour identifier les variables les plus corrélées à votre variable expliquée. Voici quelques-uns\n",
    "des avantages de l ACP:\n",
    "\n",
    "-Réduction de dimension : L ACP permet de réduire la dimension de vos données en projetant-les sur un espace de dimensions\n",
    "inférieures. Cela peut être particulièrement utile lorsque vous travaillez avec un grand nombre de variables, car cela\n",
    "vous permet de simplifier et de visualiser vos données de manière plus concise.\n",
    "\n",
    "-Détection de relations non linéaires : Contrairement à la corrélation linéaire, l ACP peut révéler des relations non linéaires\n",
    "entre les variables en identifiant les combinaisons linéaires des variables d origine qui expliquent le mieux la variance\n",
    "totale des données. Ainsi, même si une paire de variables ne présente pas une corrélation linéaire forte, elles peuvent\n",
    "être liées d une manière non linéaire qui est capturée par les composantes principales.\n",
    "\n",
    "-Visualisation des clusters : L ACP peut être utilisée pour visualiser vos données dans un espace de dimensions réduit.\n",
    "En projetant vos données sur les premières composantes principales, vous pouvez visualiser les relations entre les\n",
    "individus et les clusters dans un plan ou un espace de dimension réduit. Cela peut faciliter l identification de groupes\n",
    "ou de structures particulières dans vos données.\n",
    "\n",
    "-Identification des variables importantes : En examinant les contributions des variables aux différentes composantes\n",
    "principales, vous pouvez identifier les variables qui ont le plus d influence sur la variation des données. \n",
    "Cela peut vous aider à sélectionner les variables les plus importantes pour une analyse ultérieure ou pour réduire la \n",
    "dimension de votre modèle.\n",
    "\n",
    "-Traitement des données manquantes : L ACP est également utile pour traiter les données manquantes.\n",
    "Elle peut fournir une estimation des valeurs manquantes en utilisant les informations disponibles dans les autres\n",
    "variables, en utilisant les relations découvertes lors de l analyse des composantes principales.\n",
    "\n",
    "-En résumé, l ACP offre une combinaison de réduction de dimension, de détection de relations non linéaires, de visualisation\n",
    "et d identification des variables importantes. Elle peut fournir une meilleure compréhension des structures\n",
    "et des relations cachées dans vos données, même si vous avez déjà effectué une analyse de corrélation."
   ]
  },
  {
   "cell_type": "markdown",
   "id": "9370f6b8",
   "metadata": {},
   "source": []
  },
  {
   "cell_type": "markdown",
   "id": "4adf4788",
   "metadata": {},
   "source": [
    "Faisons l ACP avec le jeu de donnees déja néttoyé qui contient toutes les variables."
   ]
  },
  {
   "cell_type": "code",
   "execution_count": 12,
   "id": "3f13306b",
   "metadata": {},
   "outputs": [],
   "source": [
    "chemin=\"D:/BUREAU/infos/PROJET_TUTORE_SEMESTRE_2/nettoye_DR41.txt\""
   ]
  },
  {
   "cell_type": "code",
   "execution_count": 13,
   "id": "957914ee",
   "metadata": {},
   "outputs": [],
   "source": [
    "dn = pd.read_csv(chemin,low_memory=False)"
   ]
  },
  {
   "cell_type": "code",
   "execution_count": null,
   "id": "4d93091a",
   "metadata": {},
   "outputs": [],
   "source": []
  },
  {
   "cell_type": "code",
   "execution_count": 14,
   "id": "0f56521e",
   "metadata": {},
   "outputs": [],
   "source": [
    "liste = [\"CUBCONS\", \"CUBFAC\", \"FORFAIT\",'INDUST', \"SOCIAL\", \"DOMEST\", \"NORMAL\", \"ADMINI\", \"MONT-SOD\", \"MONT-TVA\", \"MONT-FDE\", \"MONT-FNE\", \"MONT-ASS-TTC\", \"MONT-FRAIS-CPT\"]"
   ]
  },
  {
   "cell_type": "code",
   "execution_count": null,
   "id": "593c3a8c",
   "metadata": {},
   "outputs": [],
   "source": []
  },
  {
   "cell_type": "markdown",
   "id": "e1e57c6c",
   "metadata": {},
   "source": []
  },
  {
   "cell_type": "code",
   "execution_count": 15,
   "id": "c513a971",
   "metadata": {},
   "outputs": [
    {
     "data": {
      "text/html": [
       "<style>#sk-container-id-1 {color: black;background-color: white;}#sk-container-id-1 pre{padding: 0;}#sk-container-id-1 div.sk-toggleable {background-color: white;}#sk-container-id-1 label.sk-toggleable__label {cursor: pointer;display: block;width: 100%;margin-bottom: 0;padding: 0.3em;box-sizing: border-box;text-align: center;}#sk-container-id-1 label.sk-toggleable__label-arrow:before {content: \"▸\";float: left;margin-right: 0.25em;color: #696969;}#sk-container-id-1 label.sk-toggleable__label-arrow:hover:before {color: black;}#sk-container-id-1 div.sk-estimator:hover label.sk-toggleable__label-arrow:before {color: black;}#sk-container-id-1 div.sk-toggleable__content {max-height: 0;max-width: 0;overflow: hidden;text-align: left;background-color: #f0f8ff;}#sk-container-id-1 div.sk-toggleable__content pre {margin: 0.2em;color: black;border-radius: 0.25em;background-color: #f0f8ff;}#sk-container-id-1 input.sk-toggleable__control:checked~div.sk-toggleable__content {max-height: 200px;max-width: 100%;overflow: auto;}#sk-container-id-1 input.sk-toggleable__control:checked~label.sk-toggleable__label-arrow:before {content: \"▾\";}#sk-container-id-1 div.sk-estimator input.sk-toggleable__control:checked~label.sk-toggleable__label {background-color: #d4ebff;}#sk-container-id-1 div.sk-label input.sk-toggleable__control:checked~label.sk-toggleable__label {background-color: #d4ebff;}#sk-container-id-1 input.sk-hidden--visually {border: 0;clip: rect(1px 1px 1px 1px);clip: rect(1px, 1px, 1px, 1px);height: 1px;margin: -1px;overflow: hidden;padding: 0;position: absolute;width: 1px;}#sk-container-id-1 div.sk-estimator {font-family: monospace;background-color: #f0f8ff;border: 1px dotted black;border-radius: 0.25em;box-sizing: border-box;margin-bottom: 0.5em;}#sk-container-id-1 div.sk-estimator:hover {background-color: #d4ebff;}#sk-container-id-1 div.sk-parallel-item::after {content: \"\";width: 100%;border-bottom: 1px solid gray;flex-grow: 1;}#sk-container-id-1 div.sk-label:hover label.sk-toggleable__label {background-color: #d4ebff;}#sk-container-id-1 div.sk-serial::before {content: \"\";position: absolute;border-left: 1px solid gray;box-sizing: border-box;top: 0;bottom: 0;left: 50%;z-index: 0;}#sk-container-id-1 div.sk-serial {display: flex;flex-direction: column;align-items: center;background-color: white;padding-right: 0.2em;padding-left: 0.2em;position: relative;}#sk-container-id-1 div.sk-item {position: relative;z-index: 1;}#sk-container-id-1 div.sk-parallel {display: flex;align-items: stretch;justify-content: center;background-color: white;position: relative;}#sk-container-id-1 div.sk-item::before, #sk-container-id-1 div.sk-parallel-item::before {content: \"\";position: absolute;border-left: 1px solid gray;box-sizing: border-box;top: 0;bottom: 0;left: 50%;z-index: -1;}#sk-container-id-1 div.sk-parallel-item {display: flex;flex-direction: column;z-index: 1;position: relative;background-color: white;}#sk-container-id-1 div.sk-parallel-item:first-child::after {align-self: flex-end;width: 50%;}#sk-container-id-1 div.sk-parallel-item:last-child::after {align-self: flex-start;width: 50%;}#sk-container-id-1 div.sk-parallel-item:only-child::after {width: 0;}#sk-container-id-1 div.sk-dashed-wrapped {border: 1px dashed gray;margin: 0 0.4em 0.5em 0.4em;box-sizing: border-box;padding-bottom: 0.4em;background-color: white;}#sk-container-id-1 div.sk-label label {font-family: monospace;font-weight: bold;display: inline-block;line-height: 1.2em;}#sk-container-id-1 div.sk-label-container {text-align: center;}#sk-container-id-1 div.sk-container {/* jupyter's `normalize.less` sets `[hidden] { display: none; }` but bootstrap.min.css set `[hidden] { display: none !important; }` so we also need the `!important` here to be able to override the default hidden behavior on the sphinx rendered scikit-learn.org. See: https://github.com/scikit-learn/scikit-learn/issues/21755 */display: inline-block !important;position: relative;}#sk-container-id-1 div.sk-text-repr-fallback {display: none;}</style><div id=\"sk-container-id-1\" class=\"sk-top-container\"><div class=\"sk-text-repr-fallback\"><pre>PCA()</pre><b>In a Jupyter environment, please rerun this cell to show the HTML representation or trust the notebook. <br />On GitHub, the HTML representation is unable to render, please try loading this page with nbviewer.org.</b></div><div class=\"sk-container\" hidden><div class=\"sk-item\"><div class=\"sk-estimator sk-toggleable\"><input class=\"sk-toggleable__control sk-hidden--visually\" id=\"sk-estimator-id-1\" type=\"checkbox\" checked><label for=\"sk-estimator-id-1\" class=\"sk-toggleable__label sk-toggleable__label-arrow\">PCA</label><div class=\"sk-toggleable__content\"><pre>PCA()</pre></div></div></div></div></div>"
      ],
      "text/plain": [
       "PCA()"
      ]
     },
     "execution_count": 15,
     "metadata": {},
     "output_type": "execute_result"
    }
   ],
   "source": [
    "# Supposons que vos données sont stockées dans un DataFrame appelé 'data'\n",
    "# Sélectionnez les colonnes numériques à inclure dans l'ACP\n",
    "dn.dropna(inplace=True)\n",
    "numeric_data = dn[liste]\n",
    "\n",
    "# Effectuer une ACP\n",
    "pca = PCA()\n",
    "pca.fit(numeric_data)"
   ]
  },
  {
   "cell_type": "markdown",
   "id": "32d563d4",
   "metadata": {},
   "source": [
    "bonne explication pour ACP: https://fxjollois.github.io/cours-2019-2020/lp-iot--python-ds/seance2-ACP-classif.html"
   ]
  },
  {
   "cell_type": "markdown",
   "id": "52fdb85d",
   "metadata": {},
   "source": [
    "Variance expliquée:\n",
    "L objet pca comprend maintenant un certain nombre d objets et de fonctions.\n",
    "Le premier objet est le tableau des variances expliquées (explained_variance_ - proportionnelles aux valeurs propres)\n",
    "par chaque dimension, et le ratio (proportion) de variance expliquée par dimension (explained_variance_ratio_)."
   ]
  },
  {
   "cell_type": "code",
   "execution_count": 16,
   "id": "e266dca3",
   "metadata": {},
   "outputs": [
    {
     "name": "stdout",
     "output_type": "stream",
     "text": [
      "[7.14335009e+08 1.60683242e+07 1.33203926e+06 1.07729973e+06\n",
      " 1.31034154e+05 2.21290044e+04 1.88532254e+02 1.28236788e+01\n",
      " 2.92260433e+00 5.37551396e-03 3.81413878e-04 1.06097289e-06\n",
      " 2.35006968e-24 7.08772185e-25]\n",
      "[9.74581318e-01 2.19223310e-02 1.81732740e-03 1.46978124e-03\n",
      " 1.78772476e-04 3.01910365e-05 2.57218266e-07 1.74955975e-08\n",
      " 3.98736664e-09 7.33391954e-12 5.20370463e-13 1.44750621e-15\n",
      " 3.20624634e-33 9.66991848e-34]\n"
     ]
    }
   ],
   "source": [
    "print(pca.explained_variance_)\n",
    "print(pca.explained_variance_ratio_)"
   ]
  },
  {
   "cell_type": "markdown",
   "id": "efe236cb",
   "metadata": {},
   "source": [
    "Bien évidemment, il est possible (et préférable) de faire un tableau récapitulatif, avec les variances expliquées,\n",
    "les proportions de variance expliquée simples et cumulées. Voici un petit code permettant de faire ceci."
   ]
  },
  {
   "cell_type": "code",
   "execution_count": 17,
   "id": "4fdf6218",
   "metadata": {},
   "outputs": [
    {
     "data": {
      "text/html": [
       "<div>\n",
       "<style scoped>\n",
       "    .dataframe tbody tr th:only-of-type {\n",
       "        vertical-align: middle;\n",
       "    }\n",
       "\n",
       "    .dataframe tbody tr th {\n",
       "        vertical-align: top;\n",
       "    }\n",
       "\n",
       "    .dataframe thead th {\n",
       "        text-align: right;\n",
       "    }\n",
       "</style>\n",
       "<table border=\"1\" class=\"dataframe\">\n",
       "  <thead>\n",
       "    <tr style=\"text-align: right;\">\n",
       "      <th></th>\n",
       "      <th>Dimension</th>\n",
       "      <th>Variance expliquée</th>\n",
       "      <th>% variance expliquée</th>\n",
       "      <th>% cum. var. expliquée</th>\n",
       "    </tr>\n",
       "  </thead>\n",
       "  <tbody>\n",
       "    <tr>\n",
       "      <th>0</th>\n",
       "      <td>Dim1</td>\n",
       "      <td>7.143350e+08</td>\n",
       "      <td>97.0</td>\n",
       "      <td>97.0</td>\n",
       "    </tr>\n",
       "    <tr>\n",
       "      <th>1</th>\n",
       "      <td>Dim2</td>\n",
       "      <td>1.606832e+07</td>\n",
       "      <td>2.0</td>\n",
       "      <td>100.0</td>\n",
       "    </tr>\n",
       "    <tr>\n",
       "      <th>2</th>\n",
       "      <td>Dim3</td>\n",
       "      <td>1.332039e+06</td>\n",
       "      <td>0.0</td>\n",
       "      <td>100.0</td>\n",
       "    </tr>\n",
       "    <tr>\n",
       "      <th>3</th>\n",
       "      <td>Dim4</td>\n",
       "      <td>1.077300e+06</td>\n",
       "      <td>0.0</td>\n",
       "      <td>100.0</td>\n",
       "    </tr>\n",
       "    <tr>\n",
       "      <th>4</th>\n",
       "      <td>Dim5</td>\n",
       "      <td>1.310342e+05</td>\n",
       "      <td>0.0</td>\n",
       "      <td>100.0</td>\n",
       "    </tr>\n",
       "    <tr>\n",
       "      <th>5</th>\n",
       "      <td>Dim6</td>\n",
       "      <td>2.212900e+04</td>\n",
       "      <td>0.0</td>\n",
       "      <td>100.0</td>\n",
       "    </tr>\n",
       "    <tr>\n",
       "      <th>6</th>\n",
       "      <td>Dim7</td>\n",
       "      <td>1.885323e+02</td>\n",
       "      <td>0.0</td>\n",
       "      <td>100.0</td>\n",
       "    </tr>\n",
       "    <tr>\n",
       "      <th>7</th>\n",
       "      <td>Dim8</td>\n",
       "      <td>1.282368e+01</td>\n",
       "      <td>0.0</td>\n",
       "      <td>100.0</td>\n",
       "    </tr>\n",
       "    <tr>\n",
       "      <th>8</th>\n",
       "      <td>Dim9</td>\n",
       "      <td>2.922604e+00</td>\n",
       "      <td>0.0</td>\n",
       "      <td>100.0</td>\n",
       "    </tr>\n",
       "    <tr>\n",
       "      <th>9</th>\n",
       "      <td>Dim10</td>\n",
       "      <td>5.375514e-03</td>\n",
       "      <td>0.0</td>\n",
       "      <td>100.0</td>\n",
       "    </tr>\n",
       "    <tr>\n",
       "      <th>10</th>\n",
       "      <td>Dim11</td>\n",
       "      <td>3.814139e-04</td>\n",
       "      <td>0.0</td>\n",
       "      <td>100.0</td>\n",
       "    </tr>\n",
       "    <tr>\n",
       "      <th>11</th>\n",
       "      <td>Dim12</td>\n",
       "      <td>1.060973e-06</td>\n",
       "      <td>0.0</td>\n",
       "      <td>100.0</td>\n",
       "    </tr>\n",
       "    <tr>\n",
       "      <th>12</th>\n",
       "      <td>Dim13</td>\n",
       "      <td>2.350070e-24</td>\n",
       "      <td>0.0</td>\n",
       "      <td>100.0</td>\n",
       "    </tr>\n",
       "    <tr>\n",
       "      <th>13</th>\n",
       "      <td>Dim14</td>\n",
       "      <td>7.087722e-25</td>\n",
       "      <td>0.0</td>\n",
       "      <td>100.0</td>\n",
       "    </tr>\n",
       "  </tbody>\n",
       "</table>\n",
       "</div>"
      ],
      "text/plain": [
       "   Dimension  Variance expliquée  % variance expliquée  % cum. var. expliquée\n",
       "0       Dim1        7.143350e+08                  97.0                   97.0\n",
       "1       Dim2        1.606832e+07                   2.0                  100.0\n",
       "2       Dim3        1.332039e+06                   0.0                  100.0\n",
       "3       Dim4        1.077300e+06                   0.0                  100.0\n",
       "4       Dim5        1.310342e+05                   0.0                  100.0\n",
       "5       Dim6        2.212900e+04                   0.0                  100.0\n",
       "6       Dim7        1.885323e+02                   0.0                  100.0\n",
       "7       Dim8        1.282368e+01                   0.0                  100.0\n",
       "8       Dim9        2.922604e+00                   0.0                  100.0\n",
       "9      Dim10        5.375514e-03                   0.0                  100.0\n",
       "10     Dim11        3.814139e-04                   0.0                  100.0\n",
       "11     Dim12        1.060973e-06                   0.0                  100.0\n",
       "12     Dim13        2.350070e-24                   0.0                  100.0\n",
       "13     Dim14        7.087722e-25                   0.0                  100.0"
      ]
     },
     "execution_count": 17,
     "metadata": {},
     "output_type": "execute_result"
    }
   ],
   "source": [
    "resume = pd.DataFrame(\n",
    "    {\n",
    "        \"Dimension\" : [\"Dim\" + str(x + 1) for x in range(14)], # une liste en compr avec 14 elements (variables numeriques)\n",
    "        \"Variance expliquée\" : pca.explained_variance_,\n",
    "        \"% variance expliquée\" : np.round(pca.explained_variance_ratio_ * 100),\n",
    "        \"% cum. var. expliquée\" : np.round(np.cumsum(pca.explained_variance_ratio_) * 100)\n",
    "    }\n",
    ")\n",
    "resume\n",
    "\n",
    "#les differents taux d'inertie."
   ]
  },
  {
   "cell_type": "markdown",
   "id": "cd97a724",
   "metadata": {},
   "source": [
    "L idée est de représenter graphiquement ces proportions de variances expliquées (qu on passe en pourcentage par convenance)."
   ]
  },
  {
   "cell_type": "code",
   "execution_count": 24,
   "id": "ec71e5ac",
   "metadata": {},
   "outputs": [
    {
     "data": {
      "image/png": "[encoded data removed]",
      "text/plain": [
       "<Figure size 640x480 with 1 Axes>"
      ]
     },
     "metadata": {},
     "output_type": "display_data"
    }
   ],
   "source": [
    "resume.plot.bar(x = \"Dimension\", y = \"% variance expliquée\") # permet un diagramme en barres\n",
    "plt.text(5, 18, \"7%\") # ajout de texte (n'est pas obligatoire de le faire)\n",
    "plt.axhline(y = 7, linewidth = .5, color = \"dimgray\", linestyle = \"--\") # ligne 17 = 100 / 14 (nb dimensions)\n",
    "plt.show()"
   ]
  },
  {
   "cell_type": "markdown",
   "id": "71f82cf5",
   "metadata": {},
   "source": [
    "On remarque ici que les deux premieres dimensions suffisent à expliquer 99% de la variance des données."
   ]
  },
  {
   "cell_type": "markdown",
   "id": "1a77f025",
   "metadata": {},
   "source": [
    "### Représentation des individus"
   ]
  },
  {
   "cell_type": "markdown",
   "id": "bc35e0ab",
   "metadata": {},
   "source": [
    "Nous allons maintenant calculer les coordonnées des iris sur les dimensions, avec la fonction transform() de l'objet pca"
   ]
  },
  {
   "cell_type": "code",
   "execution_count": 25,
   "id": "7ccdf108",
   "metadata": {},
   "outputs": [],
   "source": [
    "dn_tr = pca.transform(numeric_data)"
   ]
  },
  {
   "cell_type": "markdown",
   "id": "365fb37f",
   "metadata": {},
   "source": [
    "Afin de manipuler plus facilement l objet obtenu par la suite, nous allons créer un DataFrame pandas en ne prenant que les deux premières dimensions, ainsi que les espèces."
   ]
  },
  {
   "cell_type": "code",
   "execution_count": 26,
   "id": "e9892f27",
   "metadata": {},
   "outputs": [
    {
     "data": {
      "text/html": [
       "<div>\n",
       "<style scoped>\n",
       "    .dataframe tbody tr th:only-of-type {\n",
       "        vertical-align: middle;\n",
       "    }\n",
       "\n",
       "    .dataframe tbody tr th {\n",
       "        vertical-align: top;\n",
       "    }\n",
       "\n",
       "    .dataframe thead th {\n",
       "        text-align: right;\n",
       "    }\n",
       "</style>\n",
       "<table border=\"1\" class=\"dataframe\">\n",
       "  <thead>\n",
       "    <tr style=\"text-align: right;\">\n",
       "      <th></th>\n",
       "      <th>Dim1</th>\n",
       "      <th>Dim2</th>\n",
       "      <th>DR</th>\n",
       "      <th>CEN</th>\n",
       "      <th>POLICE</th>\n",
       "    </tr>\n",
       "  </thead>\n",
       "  <tbody>\n",
       "    <tr>\n",
       "      <th>23</th>\n",
       "      <td>2465.009268</td>\n",
       "      <td>3377.331003</td>\n",
       "      <td>41</td>\n",
       "      <td>140</td>\n",
       "      <td>22031</td>\n",
       "    </tr>\n",
       "    <tr>\n",
       "      <th>24</th>\n",
       "      <td>52.889798</td>\n",
       "      <td>1695.691281</td>\n",
       "      <td>41</td>\n",
       "      <td>140</td>\n",
       "      <td>22031</td>\n",
       "    </tr>\n",
       "    <tr>\n",
       "      <th>25</th>\n",
       "      <td>-349.690763</td>\n",
       "      <td>1415.939757</td>\n",
       "      <td>41</td>\n",
       "      <td>140</td>\n",
       "      <td>22031</td>\n",
       "    </tr>\n",
       "    <tr>\n",
       "      <th>26</th>\n",
       "      <td>-1756.817214</td>\n",
       "      <td>434.925916</td>\n",
       "      <td>41</td>\n",
       "      <td>140</td>\n",
       "      <td>22031</td>\n",
       "    </tr>\n",
       "    <tr>\n",
       "      <th>62</th>\n",
       "      <td>1057.659253</td>\n",
       "      <td>2396.635380</td>\n",
       "      <td>41</td>\n",
       "      <td>140</td>\n",
       "      <td>22051</td>\n",
       "    </tr>\n",
       "    <tr>\n",
       "      <th>63</th>\n",
       "      <td>-3968.132532</td>\n",
       "      <td>-1106.422353</td>\n",
       "      <td>41</td>\n",
       "      <td>140</td>\n",
       "      <td>22051</td>\n",
       "    </tr>\n",
       "    <tr>\n",
       "      <th>64</th>\n",
       "      <td>6888.388595</td>\n",
       "      <td>6459.514380</td>\n",
       "      <td>41</td>\n",
       "      <td>140</td>\n",
       "      <td>22051</td>\n",
       "    </tr>\n",
       "    <tr>\n",
       "      <th>66</th>\n",
       "      <td>-5810.780294</td>\n",
       "      <td>-2851.352190</td>\n",
       "      <td>41</td>\n",
       "      <td>140</td>\n",
       "      <td>22052</td>\n",
       "    </tr>\n",
       "    <tr>\n",
       "      <th>67</th>\n",
       "      <td>-4973.874242</td>\n",
       "      <td>-1806.535072</td>\n",
       "      <td>41</td>\n",
       "      <td>140</td>\n",
       "      <td>22052</td>\n",
       "    </tr>\n",
       "    <tr>\n",
       "      <th>68</th>\n",
       "      <td>-349.690763</td>\n",
       "      <td>1415.939757</td>\n",
       "      <td>41</td>\n",
       "      <td>140</td>\n",
       "      <td>22052</td>\n",
       "    </tr>\n",
       "    <tr>\n",
       "      <th>116</th>\n",
       "      <td>-3365.720074</td>\n",
       "      <td>-685.547997</td>\n",
       "      <td>41</td>\n",
       "      <td>140</td>\n",
       "      <td>22070</td>\n",
       "    </tr>\n",
       "    <tr>\n",
       "      <th>117</th>\n",
       "      <td>-4370.713093</td>\n",
       "      <td>-1386.173877</td>\n",
       "      <td>41</td>\n",
       "      <td>140</td>\n",
       "      <td>22070</td>\n",
       "    </tr>\n",
       "    <tr>\n",
       "      <th>118</th>\n",
       "      <td>-4773.070090</td>\n",
       "      <td>-1666.243620</td>\n",
       "      <td>41</td>\n",
       "      <td>140</td>\n",
       "      <td>22070</td>\n",
       "    </tr>\n",
       "    <tr>\n",
       "      <th>119</th>\n",
       "      <td>-3365.720074</td>\n",
       "      <td>-685.547997</td>\n",
       "      <td>41</td>\n",
       "      <td>140</td>\n",
       "      <td>22070</td>\n",
       "    </tr>\n",
       "    <tr>\n",
       "      <th>124</th>\n",
       "      <td>-2360.201928</td>\n",
       "      <td>14.882940</td>\n",
       "      <td>41</td>\n",
       "      <td>140</td>\n",
       "      <td>22072</td>\n",
       "    </tr>\n",
       "    <tr>\n",
       "      <th>125</th>\n",
       "      <td>-550.494915</td>\n",
       "      <td>1275.648305</td>\n",
       "      <td>41</td>\n",
       "      <td>140</td>\n",
       "      <td>22072</td>\n",
       "    </tr>\n",
       "    <tr>\n",
       "      <th>126</th>\n",
       "      <td>-2963.363077</td>\n",
       "      <td>-405.478255</td>\n",
       "      <td>41</td>\n",
       "      <td>140</td>\n",
       "      <td>22072</td>\n",
       "    </tr>\n",
       "    <tr>\n",
       "      <th>127</th>\n",
       "      <td>-3566.524227</td>\n",
       "      <td>-825.839449</td>\n",
       "      <td>41</td>\n",
       "      <td>140</td>\n",
       "      <td>22072</td>\n",
       "    </tr>\n",
       "    <tr>\n",
       "      <th>149</th>\n",
       "      <td>-2360.201928</td>\n",
       "      <td>14.882940</td>\n",
       "      <td>41</td>\n",
       "      <td>140</td>\n",
       "      <td>22079</td>\n",
       "    </tr>\n",
       "    <tr>\n",
       "      <th>150</th>\n",
       "      <td>-2561.006080</td>\n",
       "      <td>-125.408512</td>\n",
       "      <td>41</td>\n",
       "      <td>140</td>\n",
       "      <td>22079</td>\n",
       "    </tr>\n",
       "  </tbody>\n",
       "</table>\n",
       "</div>"
      ],
      "text/plain": [
       "            Dim1         Dim2  DR  CEN  POLICE\n",
       "23   2465.009268  3377.331003  41  140   22031\n",
       "24     52.889798  1695.691281  41  140   22031\n",
       "25   -349.690763  1415.939757  41  140   22031\n",
       "26  -1756.817214   434.925916  41  140   22031\n",
       "62   1057.659253  2396.635380  41  140   22051\n",
       "63  -3968.132532 -1106.422353  41  140   22051\n",
       "64   6888.388595  6459.514380  41  140   22051\n",
       "66  -5810.780294 -2851.352190  41  140   22052\n",
       "67  -4973.874242 -1806.535072  41  140   22052\n",
       "68   -349.690763  1415.939757  41  140   22052\n",
       "116 -3365.720074  -685.547997  41  140   22070\n",
       "117 -4370.713093 -1386.173877  41  140   22070\n",
       "118 -4773.070090 -1666.243620  41  140   22070\n",
       "119 -3365.720074  -685.547997  41  140   22070\n",
       "124 -2360.201928    14.882940  41  140   22072\n",
       "125  -550.494915  1275.648305  41  140   22072\n",
       "126 -2963.363077  -405.478255  41  140   22072\n",
       "127 -3566.524227  -825.839449  41  140   22072\n",
       "149 -2360.201928    14.882940  41  140   22079\n",
       "150 -2561.006080  -125.408512  41  140   22079"
      ]
     },
     "execution_count": 26,
     "metadata": {},
     "output_type": "execute_result"
    }
   ],
   "source": [
    "# Transformation en DataFrame pandas\n",
    "WGI_pca_df = pd.DataFrame({\n",
    "    \"Dim1\" : dn_tr[:,0], \n",
    "    \"Dim2\" : dn_tr[:,1],\n",
    "    \"DR\"   :dn[\"DR\"],\n",
    "    \"CEN\"  : dn[\"CEN\"],\n",
    "    \"POLICE\": dn[\"POLICE\"],\n",
    "})\n",
    "\n",
    "# Résultat (premières lignes)\n",
    "WGI_pca_df.head(20)"
   ]
  },
  {
   "cell_type": "code",
   "execution_count": null,
   "id": "86e19b26",
   "metadata": {},
   "outputs": [],
   "source": []
  },
  {
   "cell_type": "markdown",
   "id": "d82871df",
   "metadata": {},
   "source": [
    "Il est maintenant possible de représenter les données sur le premier plan factoriel. Dans ce graphique, il est important de noter le pourcentage de variance expliquée."
   ]
  },
  {
   "cell_type": "code",
   "execution_count": 27,
   "id": "4c875a1d",
   "metadata": {},
   "outputs": [
    {
     "data": {
      "image/png": "[encoded data removed]",
      "text/plain": [
       "<Figure size 640x480 with 1 Axes>"
      ]
     },
     "metadata": {},
     "output_type": "display_data"
    }
   ],
   "source": [
    "WGI_pca_df.plot.scatter(\"Dim1\", \"Dim2\") # nuage de points\n",
    "plt.xlabel(\"Dimension 1 (97%)\") # modification du nom de l'axe X\n",
    "plt.ylabel(\"Dimension 2 (2 %)\") # idem pour axe Y\n",
    "plt.suptitle(\"Premier plan factoriel (99%)\") # titre général\n",
    "plt.show()"
   ]
  },
  {
   "cell_type": "markdown",
   "id": "a91071b3",
   "metadata": {},
   "source": [
    "Dans ce même graphique, on veut repérer les individus aux extrêmes. Ci-dessous, nous affichons donc les noms des pays ayant des valeurs absolues élevées pour chaque composante."
   ]
  },
  {
   "cell_type": "code",
   "execution_count": 28,
   "id": "adc44fb2",
   "metadata": {},
   "outputs": [
    {
     "data": {
      "image/png": "[encoded data removed]",
      "text/plain": [
       "<Figure size 640x480 with 1 Axes>"
      ]
     },
     "metadata": {},
     "output_type": "display_data"
    }
   ],
   "source": [
    "# utilisation de subplots nécessaire car annotation du graphique\n",
    "fig, ax = plt.subplots()\n",
    "WGI_pca_df.plot.scatter(\"Dim1\", \"Dim2\", ax = ax) # l'option ax permet de placer les points et le texte sur le même graphique\n",
    "\n",
    "# boucle sur chaque pays\n",
    "for k in WGI_pca_df.iterrows():\n",
    "    # annotation uniquement si valeur absolue sur une de 2 dimensions importantes (valeurs choisies empiriquement)\n",
    "    if (abs(k[1]['Dim1']) > 2000) | (abs(k[1]['Dim2']) > 2000):\n",
    "        ax.annotate(k[1][\"POLICE\"], (k[1]['Dim1'], k[1]['Dim2']), fontsize = 9)\n",
    "plt.xlabel(\"Dimension 1 (97%)\") \n",
    "plt.ylabel(\"Dimension 2 (2 %)\")\n",
    "plt.suptitle(\"Premier plan factoriel (99%)\")\n",
    "plt.show()"
   ]
  },
  {
   "cell_type": "markdown",
   "id": "4fa1ca6f",
   "metadata": {},
   "source": [
    "On pourrait aussi se demander s il y a un effet CENTRE. Pour cela, nous allons colorer les points en fonction de leur continent donc."
   ]
  },
  {
   "cell_type": "code",
   "execution_count": 29,
   "id": "d8c70938",
   "metadata": {},
   "outputs": [
    {
     "data": {
      "text/plain": [
       "{140: array([0.10588235, 0.61960784, 0.46666667, 1.        ]),\n",
       " 131: array([0.85098039, 0.37254902, 0.00784314, 1.        ])}"
      ]
     },
     "execution_count": 29,
     "metadata": {},
     "output_type": "execute_result"
    }
   ],
   "source": [
    "# permet de créer une palette de couleurs, basée sur Color Brewer\n",
    "palette = plt.get_cmap(\"Dark2\")\n",
    "# associe une couleur à chaque continent (cf ci-dessous)\n",
    "couleurs = dict(zip(WGI_pca_df[\"CEN\"].drop_duplicates(), palette(range(14))))\n",
    "couleurs"
   ]
  },
  {
   "cell_type": "code",
   "execution_count": 30,
   "id": "b5c1e373",
   "metadata": {},
   "outputs": [
    {
     "data": {
      "text/plain": [
       "{140: 0, 131: 1}"
      ]
     },
     "execution_count": 30,
     "metadata": {},
     "output_type": "execute_result"
    }
   ],
   "source": [
    "position = dict(zip(couleurs.keys(), range(14)))\n",
    "position"
   ]
  },
  {
   "cell_type": "code",
   "execution_count": 31,
   "id": "348475f5",
   "metadata": {},
   "outputs": [
    {
     "data": {
      "image/png": "[encoded data removed]",
      "text/plain": [
       "<Figure size 640x480 with 1 Axes>"
      ]
     },
     "metadata": {},
     "output_type": "display_data"
    }
   ],
   "source": [
    "# Affichage des points avec une liste de couleurs\n",
    "WGI_pca_df.plot.scatter(x = \"Dim1\", y = \"Dim2\", c = [couleurs[p] for p in WGI_pca_df[\"CEN\"]])\n",
    "# boucle pour afficher la légende\n",
    "for cont, coul in couleurs.items():\n",
    "    plt.scatter(3, position[cont] / 3 + 2.15, c = [coul], s = 20)\n",
    "    plt.text(3.2, position[cont] / 3 + 2, cont)\n",
    "plt.xlabel(\"Dimension 1 (97%)\") \n",
    "plt.ylabel(\"Dimension 2 (2 %)\")\n",
    "plt.suptitle(\"Premier plan factoriel (99%)\")\n",
    "plt.show()"
   ]
  },
  {
   "cell_type": "markdown",
   "id": "cd7be1af",
   "metadata": {},
   "source": [
    "### Représentation des variables"
   ]
  },
  {
   "cell_type": "markdown",
   "id": "af0a35eb",
   "metadata": {},
   "source": [
    "Lorsqu on réalise une ACP, surtout dans un contexte exploratoire (et non de compression), il est absolument nécessaire \n",
    "de décrire les axesà partir des variables, afin de comprendre ce qu ils représentent. Pour cela, nous devons réaliser le cercle des corrélations. Malheureusement, il faut le réaliser à la main."
   ]
  },
  {
   "cell_type": "code",
   "execution_count": 32,
   "id": "8fd5f3c0",
   "metadata": {},
   "outputs": [
    {
     "data": {
      "text/html": [
       "<div>\n",
       "<style scoped>\n",
       "    .dataframe tbody tr th:only-of-type {\n",
       "        vertical-align: middle;\n",
       "    }\n",
       "\n",
       "    .dataframe tbody tr th {\n",
       "        vertical-align: top;\n",
       "    }\n",
       "\n",
       "    .dataframe thead th {\n",
       "        text-align: right;\n",
       "    }\n",
       "</style>\n",
       "<table border=\"1\" class=\"dataframe\">\n",
       "  <thead>\n",
       "    <tr style=\"text-align: right;\">\n",
       "      <th></th>\n",
       "      <th>id</th>\n",
       "      <th>COR_1</th>\n",
       "      <th>COR_2</th>\n",
       "    </tr>\n",
       "  </thead>\n",
       "  <tbody>\n",
       "    <tr>\n",
       "      <th>0</th>\n",
       "      <td>CUBCONS</td>\n",
       "      <td>68.850976</td>\n",
       "      <td>14.730780</td>\n",
       "    </tr>\n",
       "    <tr>\n",
       "      <th>1</th>\n",
       "      <td>CUBFAC</td>\n",
       "      <td>68.672358</td>\n",
       "      <td>13.777793</td>\n",
       "    </tr>\n",
       "    <tr>\n",
       "      <th>2</th>\n",
       "      <td>FORFAIT</td>\n",
       "      <td>-0.079991</td>\n",
       "      <td>0.182937</td>\n",
       "    </tr>\n",
       "    <tr>\n",
       "      <th>3</th>\n",
       "      <td>INDUST</td>\n",
       "      <td>50.488756</td>\n",
       "      <td>-18.440487</td>\n",
       "    </tr>\n",
       "    <tr>\n",
       "      <th>4</th>\n",
       "      <td>SOCIAL</td>\n",
       "      <td>0.466018</td>\n",
       "      <td>2.088316</td>\n",
       "    </tr>\n",
       "    <tr>\n",
       "      <th>5</th>\n",
       "      <td>DOMEST</td>\n",
       "      <td>6.725134</td>\n",
       "      <td>18.264487</td>\n",
       "    </tr>\n",
       "    <tr>\n",
       "      <th>6</th>\n",
       "      <td>NORMAL</td>\n",
       "      <td>9.202094</td>\n",
       "      <td>7.489749</td>\n",
       "    </tr>\n",
       "    <tr>\n",
       "      <th>7</th>\n",
       "      <td>ADMINI</td>\n",
       "      <td>1.870348</td>\n",
       "      <td>4.192791</td>\n",
       "    </tr>\n",
       "    <tr>\n",
       "      <th>8</th>\n",
       "      <td>MONT-SOD</td>\n",
       "      <td>15657.297606</td>\n",
       "      <td>3141.336760</td>\n",
       "    </tr>\n",
       "    <tr>\n",
       "      <th>9</th>\n",
       "      <td>MONT-TVA</td>\n",
       "      <td>2799.740124</td>\n",
       "      <td>471.770161</td>\n",
       "    </tr>\n",
       "    <tr>\n",
       "      <th>10</th>\n",
       "      <td>MONT-FDE</td>\n",
       "      <td>20010.305634</td>\n",
       "      <td>-2057.023227</td>\n",
       "    </tr>\n",
       "    <tr>\n",
       "      <th>11</th>\n",
       "      <td>MONT-FNE</td>\n",
       "      <td>5021.555642</td>\n",
       "      <td>-343.231930</td>\n",
       "    </tr>\n",
       "    <tr>\n",
       "      <th>12</th>\n",
       "      <td>MONT-ASS-TTC</td>\n",
       "      <td>5975.198265</td>\n",
       "      <td>-1275.586184</td>\n",
       "    </tr>\n",
       "    <tr>\n",
       "      <th>13</th>\n",
       "      <td>MONT-FRAIS-CPT</td>\n",
       "      <td>11.442332</td>\n",
       "      <td>16.935668</td>\n",
       "    </tr>\n",
       "  </tbody>\n",
       "</table>\n",
       "</div>"
      ],
      "text/plain": [
       "                id         COR_1        COR_2\n",
       "0          CUBCONS     68.850976    14.730780\n",
       "1           CUBFAC     68.672358    13.777793\n",
       "2          FORFAIT     -0.079991     0.182937\n",
       "3           INDUST     50.488756   -18.440487\n",
       "4           SOCIAL      0.466018     2.088316\n",
       "5           DOMEST      6.725134    18.264487\n",
       "6           NORMAL      9.202094     7.489749\n",
       "7           ADMINI      1.870348     4.192791\n",
       "8         MONT-SOD  15657.297606  3141.336760\n",
       "9         MONT-TVA   2799.740124   471.770161\n",
       "10        MONT-FDE  20010.305634 -2057.023227\n",
       "11        MONT-FNE   5021.555642  -343.231930\n",
       "12    MONT-ASS-TTC   5975.198265 -1275.586184\n",
       "13  MONT-FRAIS-CPT     11.442332    16.935668"
      ]
     },
     "execution_count": 32,
     "metadata": {},
     "output_type": "execute_result"
    }
   ],
   "source": [
    "n = numeric_data.shape[0] # nb individus\n",
    "p = numeric_data.shape[1] # nb variables\n",
    "eigval = (n-1) / n * pca.explained_variance_ # valeurs propres\n",
    "sqrt_eigval = np.sqrt(eigval) # racine carrée des valeurs propres\n",
    "corvar = np.zeros((p,p)) # matrice vide pour avoir les coordonnées\n",
    "for k in range(p):\n",
    "    corvar[:,k] = pca.components_[k,:] * sqrt_eigval[k]\n",
    "# on modifie pour avoir un dataframe\n",
    "coordvar = pd.DataFrame({'id': numeric_data.columns, 'COR_1': corvar[:,0], 'COR_2': corvar[:,1]})\n",
    "coordvar"
   ]
  },
  {
   "cell_type": "markdown",
   "id": "5cec8034",
   "metadata": {},
   "source": [
    "Une fois ces coordonnées récupérées, on peut donc afficher ce cercle des corrélations comme ci-dessous."
   ]
  },
  {
   "cell_type": "code",
   "execution_count": 33,
   "id": "4a7512a9",
   "metadata": {},
   "outputs": [
    {
     "data": {
      "image/png": "[encoded data removed]",
      "text/plain": [
       "<Figure size 600x600 with 1 Axes>"
      ]
     },
     "metadata": {},
     "output_type": "display_data"
    }
   ],
   "source": [
    "# Création d'une figure vide (avec des axes entre -1 et 1 + le titre)\n",
    "fig, axes = plt.subplots(figsize = (6,6))\n",
    "fig.suptitle(\"Cercle des corrélations\")\n",
    "axes.set_xlim(-2057.023227, 20010.305634)\n",
    "axes.set_ylim(-2057.023227, 20010.305634)\n",
    "# Ajout des axes\n",
    "axes.axvline(x = 0, color = 'lightgray', linestyle = '--', linewidth = 1)\n",
    "axes.axhline(y = 0, color = 'lightgray', linestyle = '--', linewidth = 1)\n",
    "# Ajout des noms des variables\n",
    "for j in range(p):\n",
    "    axes.text(coordvar[\"COR_1\"][j],coordvar[\"COR_2\"][j], coordvar[\"id\"][j])\n",
    "# Ajout du cercle\n",
    "plt.gca().add_artist(plt.Circle((0,0),1,color='blue',fill=False))\n",
    "\n",
    "plt.savefig('D:/BUREAU/infos/PROJET_TUTORE_SEMESTRE_2/cercle_corr.png', dpi=300)"
   ]
  },
  {
   "cell_type": "code",
   "execution_count": null,
   "id": "61db6728",
   "metadata": {},
   "outputs": [],
   "source": []
  }
 ],
 "metadata": {
  "kernelspec": {
   "display_name": "Python 3 (ipykernel)",
   "language": "python",
   "name": "python3"
  },
  "language_info": {
   "codemirror_mode": {
    "name": "ipython",
    "version": 3
   },
   "file_extension": ".py",
   "mimetype": "text/x-python",
   "name": "python",
   "nbconvert_exporter": "python",
   "pygments_lexer": "ipython3",
   "version": "3.10.11"
  }
 },
 "nbformat": 4,
 "nbformat_minor": 5
}
